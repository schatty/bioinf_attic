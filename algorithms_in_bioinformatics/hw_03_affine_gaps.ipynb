{
 "cells": [
  {
   "cell_type": "markdown",
   "metadata": {},
   "source": [
    "# Homework Assignment #03"
   ]
  },
  {
   "cell_type": "markdown",
   "metadata": {},
   "source": [
    "## Global Alignment with Affine Gap Penalties"
   ]
  },
  {
   "cell_type": "code",
   "execution_count": 1,
   "metadata": {},
   "outputs": [],
   "source": [
    "import random\n",
    "import warnings\n",
    "import numpy as np"
   ]
  },
  {
   "cell_type": "markdown",
   "metadata": {},
   "source": [
    "Let's implement basic global alignment algorithm with random path reconstruction between all possible directions"
   ]
  },
  {
   "cell_type": "code",
   "execution_count": 2,
   "metadata": {},
   "outputs": [],
   "source": [
    "def align_global(s1, s2, penalty_matrix, alphabet='ACGT-'):\n",
    "    \"\"\"\n",
    "    s1 - string alongside rows of the alignment matrix\n",
    "    s2 - string alongside columns of the alignment matrix\n",
    "    pentalty_matrix - numpy matrix with penalty wegiths, \n",
    "        where raws and columns correspond to the alphabet\n",
    "    alphabet - string of possible symbols\n",
    "    \"\"\"\n",
    "    m = np.zeros((len(s1)+1, len(s2)+1))\n",
    "    \n",
    "    def get_penalty(c1, c2):\n",
    "        return penalty_matrix[alphabet.index(c1), alphabet.index(c2)]\n",
    "    \n",
    "    # First raw and column filled with beta penalties\n",
    "    for i in range(1, len(s1)+1):\n",
    "        m[i, 0] = m[i-1, 0] - get_penalty(s1[i-1], '-')\n",
    "    for j in range(1, len(s2)+1):\n",
    "        m[0, j] = m[0, j-1] - get_penalty('-', s2[j-1])\n",
    "        \n",
    "    # Fill matrix raw by raw\n",
    "    for i in range(1, len(s1) + 1):\n",
    "        for j in range(1, len(s2) + 1):\n",
    "            m[i, j] = max(\n",
    "                m[i-1, j-1] - get_penalty(s1[i-1], s2[j-1]),\n",
    "                m[i, j-1] - get_penalty('-', s2[j-1]),\n",
    "                m[i-1, j] - get_penalty(s1[i-1], '-')\n",
    "            )\n",
    "                        \n",
    "    # Reconstruct alignment\n",
    "    s1_aligned = ''\n",
    "    s2_aligned = ''\n",
    "    path = [(len(s1), len(s2))]\n",
    "    i, j = len(s1), len(s2)\n",
    "    while i > 0 or j > 0:\n",
    "        score = m[i, j]\n",
    "        # Choose randomly between all possible directions\n",
    "        directions = [score == m[i-1, j-1] - get_penalty(s1[i-1], s2[j-1]),\n",
    "                      score == m[i-1, j] - get_penalty(s1[i-1], '-'),\n",
    "                      score == m[i, j-1] - get_penalty('-', s2[j-1])]\n",
    "        opts = [i for i, cond in enumerate(directions) if cond]\n",
    "        opt = random.choice(opts)\n",
    "        # Make step towards chosen direction\n",
    "        if opt == 1:\n",
    "            s2_aligned = '-' + s2_aligned\n",
    "            s1_aligned = s1[i-1] + s1_aligned\n",
    "            i -= 1\n",
    "        elif opt == 0:\n",
    "            s1_aligned = s1[i-1] + s1_aligned\n",
    "            s2_aligned = s2[j-1] + s2_aligned\n",
    "            i -= 1\n",
    "            j -= 1\n",
    "        else:\n",
    "            s1_aligned = '-' + s1_aligned\n",
    "            s2_aligned = s2[j-1] + s2_aligned\n",
    "            j -= 1\n",
    "        path.insert(0, (i, j))\n",
    "                \n",
    "    return m, s1_aligned, s2_aligned, path"
   ]
  },
  {
   "cell_type": "markdown",
   "metadata": {},
   "source": [
    "Global alignment with affine gaps implementation"
   ]
  },
  {
   "cell_type": "code",
   "execution_count": 7,
   "metadata": {},
   "outputs": [],
   "source": [
    "def align_affine_gaps(s1, s2, penalty_matrix, sigma, ro, alphabet='ACGT-'):\n",
    "    \"\"\"\n",
    "    s1 - string alongside rows of the alignment matrix\n",
    "    s2 - string alongside columns of the alignment matrix\n",
    "    pentalty_matrix - numpy matrix with penalty wegiths, \n",
    "        where raws and columns correspond to the alphabet\n",
    "    sigma - penalty for gap continuation (positive)\n",
    "    ro - penalty for opening gap (positive)\n",
    "    alphabet - string of possible symbols\n",
    "    \"\"\"\n",
    "    \n",
    "    # Three matrices with scores. \n",
    "    # Upper row of m_down matrix and leftmost column of m_right matrix shold have hight negative score for \n",
    "    # exception of visiting these cells\n",
    "    m_diag = np.ones((len(s1)+1, len(s2)+1)) * -np.inf\n",
    "    m_right = np.ones((len(s1)+1, len(s2)+1)) * -np.inf\n",
    "    m_down = np.ones((len(s1)+1, len(s2)+1)) * -np.inf\n",
    "    \n",
    "    # Three matrices for path reconstuction. 1 would indicate movement inside the same matrix\n",
    "    m_rec_diag = np.ones((len(s1)+1, len(s2)+1))\n",
    "    m_rec_right = np.ones((len(s1)+1, len(s2)+1))\n",
    "    m_rec_down = np.ones((len(s1)+1, len(s2)+1))\n",
    "    \n",
    "    def get_penalty(c1, c2):\n",
    "        return penalty_matrix[alphabet.index(c1), alphabet.index(c2)]\n",
    "    \n",
    "    # Fill first raw of the down matrix with penalties\n",
    "    m_down[0, 0] = 0\n",
    "    m_diag[0, 0] = 0\n",
    "    m_down[1, 0] = -ro\n",
    "    m_diag[1, 0] = -ro\n",
    "    for i in range(2, len(s1)+1):\n",
    "        m_down[i, 0] = m_down[i-1, 0] - sigma\n",
    "        m_diag[i, 0] = m_diag[i-1, 0] - sigma\n",
    "    # Fill first column of the right matrix with penalties\n",
    "    m_right[0, 0] = 0\n",
    "    m_right[0, 1] = -ro\n",
    "    m_diag[0, 1] = -ro\n",
    "    for j in range(2, len(s2)+1):\n",
    "        m_right[0, j] = m_right[0, j-1] - sigma\n",
    "        m_diag[0, j] = m_diag[0, j-1] - sigma\n",
    "        \n",
    "    # Fill matrix raw by raw\n",
    "    for i in range(1, len(s1) + 1):\n",
    "        for j in range(1, len(s2) + 1):\n",
    "            # Down matrix\n",
    "            m_down[i, j] = max(\n",
    "                m_down[i-1, j] - sigma,\n",
    "                m_diag[i-1, j] - (sigma + ro)\n",
    "            )\n",
    "            # Right matrix\n",
    "            m_right[i, j] = max(\n",
    "                m_right[i, j-1] - sigma,\n",
    "                m_diag[i, j-1] - (sigma + ro)\n",
    "            )\n",
    "            # Diag matrix\n",
    "            m_diag[i, j] = max(\n",
    "                m_diag[i-1, j-1] - get_penalty(s1[i-1], s2[j-1]),\n",
    "                m_down[i, j],\n",
    "                m_right[i, j]\n",
    "            )\n",
    "            \n",
    "            # Track path\n",
    "            if m_down[i, j] == m_down[i-1, j] - sigma:\n",
    "                m_rec_down[i, j] = 1\n",
    "            else:\n",
    "                m_rec_down[i, j] = 2\n",
    "            if m_right[i, j] == m_right[i, j-1] - sigma:\n",
    "                m_rec_right[i, j] = 1\n",
    "            else:\n",
    "                m_rec_right[i, j] = 2\n",
    "            if m_diag[i, j] == m_diag[i-1, j-1] - get_penalty(s1[i-1], s2[j-1]):\n",
    "                m_rec_diag[i, j] = 1\n",
    "            elif m_diag[i, j] == m_down[i, j]:\n",
    "                m_rec_diag[i, j] = 2\n",
    "            else:\n",
    "                m_rec_diag[i, j] = 3\n",
    "            \n",
    "    # Reconstruct alignment\n",
    "    s1_aligned = ''\n",
    "    s2_aligned = ''\n",
    "    i, j = len(s1), len(s2)\n",
    "    \n",
    "    cur_matrix = 'diag'   # Track current matrix \n",
    "    prev_matrix = None    # Track previous visited matrix to catch direct jumps between m_right and m_down matrices\n",
    "    while i > 0 and j > 0:\n",
    "        if cur_matrix == 'diag':\n",
    "            if m_rec_diag[i, j] == 1:\n",
    "                s1_aligned = s1[i-1] + s1_aligned\n",
    "                s2_aligned = s2[j-1] + s2_aligned\n",
    "                # Move withing matrix only if we perform no jumps\n",
    "                i -= 1; j -= 1\n",
    "            else:\n",
    "                if prev_matrix != 'diag':\n",
    "                    msg = \"New gap was opened while no steps in middle matrix were performed. Weights are initialized incorrect.\"\n",
    "                    warnings.warn(msg)\n",
    "                if m_rec_diag[i, j] == 2:\n",
    "                    cur_matrix = 'down'\n",
    "                elif m_rec_diag[i, j] == 3:\n",
    "                    cur_matrix = 'right'\n",
    "            prev_matrix = 'diag'\n",
    "        elif cur_matrix == 'down':\n",
    "            prev_matrix = 'down'\n",
    "            s2_aligned = '-' + s2_aligned\n",
    "            s1_aligned = s1[i-1] + s1_aligned\n",
    "            if m_rec_down[i, j] == 2:\n",
    "                cur_matrix = 'diag'\n",
    "            i -= 1\n",
    "        else:\n",
    "            prev_matrix = 'right'\n",
    "            s1_aligned = '-' + s1_aligned\n",
    "            s2_aligned = s2[j-1] + s2_aligned    \n",
    "            if m_rec_right[i, j] == 2:\n",
    "                cur_matrix = 'diag'\n",
    "            j -= 1\n",
    "                \n",
    "    return s1_aligned, s2_aligned, path"
   ]
  },
  {
   "cell_type": "markdown",
   "metadata": {},
   "source": [
    "### Preliminary test for correctness\n",
    "Let's consider basic tests where global alignment can insert multiple gaps while alignment with affine penalties would prefer only one continous gap"
   ]
  },
  {
   "cell_type": "code",
   "execution_count": 8,
   "metadata": {},
   "outputs": [
    {
     "name": "stdout",
     "output_type": "stream",
     "text": [
      "Global Alignment\n",
      "S1:  AACCTTTTTAG\n",
      "S2:  AACCT---TAG\n",
      "\n",
      "Affine Gaps Alignment\n",
      "S1:  AACCTTTTTAG\n",
      "S2:  AACC---TTAG\n"
     ]
    }
   ],
   "source": [
    "# ACGT + gap\n",
    "penalty_weights = np.array([\n",
    "    [-1.0, 1.0, 1.0, 1.0, 1.0],\n",
    "    [1.0, -1.0, 1.0, 1.0, 1.0],\n",
    "    [1.0, 1.0, -1.0, 1.0, 1.0],\n",
    "    [1.0, 1.0, 1.0, -1.0, 1.0],\n",
    "    [1.0, 1.0, 1.0, 1.0, 1.0]\n",
    "])\n",
    "\n",
    "print(\"Global Alignment\")\n",
    "matrix, s1_align, s2_align, path = align_global('AACCTTTTTAG', 'AACCTTAG', penalty_weights)\n",
    "print(\"S1: \", s1_align)\n",
    "print(\"S2: \", s2_align)\n",
    "print(\"\\nAffine Gaps Alignment\")\n",
    "s1_align, s2_align, path = align_affine_gaps('AACCTTTTTAG', 'AACCTTAG', penalty_matrix=penalty_weights, sigma=1, ro=2)\n",
    "print(\"S1: \", s1_align)\n",
    "print(\"S2: \", s2_align)"
   ]
  },
  {
   "cell_type": "code",
   "execution_count": 6,
   "metadata": {},
   "outputs": [
    {
     "name": "stdout",
     "output_type": "stream",
     "text": [
      "Global Alignment\n",
      "S1:  GATCTCCAG\n",
      "S2:  GA-C---AG\n",
      "\n",
      "Affine Gaps Alignment\n",
      "S1:  -CCAG\n",
      "S2:  GACAG\n"
     ]
    }
   ],
   "source": [
    "s1 = 'GATCTCCAG'\n",
    "s2 = 'GACAG'\n",
    "print(\"Global Alignment\")\n",
    "matrix, s1_align, s2_align, path = align_global(s1, s2, penalty_weights)\n",
    "print(\"S1: \", s1_align)\n",
    "print(\"S2: \", s2_align)\n",
    "print(\"\\nAffine Gaps Alignment\")\n",
    "s1_align, s2_align, path = align_affine_gaps(s1, s2, penalty_weights, sigma=1, ro=2)\n",
    "print(\"S1: \", s1_align)\n",
    "print(\"S2: \", s2_align)"
   ]
  },
  {
   "cell_type": "markdown",
   "metadata": {},
   "source": [
    "### Test 1.\n",
    "\n",
    "* Match bonus: 1\n",
    "* Mimatch penalty: -1\n",
    "* Opening gap penalty: 0\n",
    "* Gap continuation penalty: -1"
   ]
  },
  {
   "cell_type": "code",
   "execution_count": 6,
   "metadata": {},
   "outputs": [
    {
     "name": "stdout",
     "output_type": "stream",
     "text": [
      "S1:  T--CC-CAGT--TATGTCAGGGGACACGAGCATG-CAGAGAC\n",
      "S2:  TTGCCGCCGTCGT-TTTCAG----CA-G-TTATGTCAGA-TC\n"
     ]
    }
   ],
   "source": [
    "s1 = 'TCCCAGTTATGTCAGGGGACACGAGCATGCAGAGAC'\n",
    "s2 = 'AATTGCCGCCGTCGTTTTCAGCAGTTATGTCAGATC'\n",
    "\n",
    "ro = 0\n",
    "sigma = 1\n",
    "s1_align, s2_align, path = align_affine_gaps(s1, s2, penalty_matrix=penalty_weights, sigma=sigma, ro=ro)\n",
    "print(\"S1: \", s1_align)\n",
    "print(\"S2: \", s2_align)"
   ]
  },
  {
   "cell_type": "markdown",
   "metadata": {},
   "source": [
    "Inference: many matches exists, as well as multiple gaps as opening gap not punished"
   ]
  },
  {
   "cell_type": "markdown",
   "metadata": {},
   "source": [
    "### Test 2\n",
    "\n",
    "* Match bonus: 1\n",
    "* Mistmatch penalty: -1\n",
    "* Opening gap penalty: -100\n",
    "* Gap continuation penalty: 0.01"
   ]
  },
  {
   "cell_type": "code",
   "execution_count": 7,
   "metadata": {},
   "outputs": [
    {
     "name": "stdout",
     "output_type": "stream",
     "text": [
      "S1:  TCCCAGTTATGTCAGGGGACACGAGCATGCAGAGAC\n",
      "S2:  AATTGCCGCCGTCGTTTTCAGCAGTTATGTCAGATC\n"
     ]
    }
   ],
   "source": [
    "ro = 100\n",
    "sigma = 0.01\n",
    "s1_align, s2_align, path = align_affine_gaps(s1, s2, penalty_matrix=penalty_weights, sigma=sigma, ro=ro)\n",
    "print(\"S1: \", s1_align)\n",
    "print(\"S2: \", s2_align)"
   ]
  },
  {
   "cell_type": "markdown",
   "metadata": {},
   "source": [
    "Inference: no gaps were created as creating gap was punished too hard"
   ]
  },
  {
   "cell_type": "markdown",
   "metadata": {},
   "source": [
    "### Test 3\n",
    "\n",
    "* Match bonus: 1\n",
    "* Mistmatch penalty: -1\n",
    "* Opening gap penalty: +0.5\n",
    "* Gap continuation penalty: -0.3"
   ]
  },
  {
   "cell_type": "code",
   "execution_count": 8,
   "metadata": {},
   "outputs": [
    {
     "name": "stdout",
     "output_type": "stream",
     "text": [
      "S1:  T---C--C--CAGTTATGTCAGGGGACACG--A-GCATGCAGA-GAC\n",
      "S2:  TTGCCGCCGTC-GTT-T-TCA---G-CA-GTTATG--T-CAGAT--C\n"
     ]
    },
    {
     "name": "stderr",
     "output_type": "stream",
     "text": [
      "/Users/igor/miniconda3/lib/python3.7/site-packages/ipykernel_launcher.py:96: UserWarning: New gap was opened while no steps in middle matrix were performed. Weights are initialized incorrect.\n"
     ]
    }
   ],
   "source": [
    "ro = -0.5\n",
    "sigma = 0.3\n",
    "s1_align, s2_align, path = align_affine_gaps(s1, s2, penalty_matrix=penalty_weights, sigma=sigma, ro=ro)\n",
    "print(\"S1: \", s1_align)\n",
    "print(\"S2: \", s2_align)"
   ]
  },
  {
   "cell_type": "markdown",
   "metadata": {},
   "source": [
    "Inference: direct jumps between upper and down matrices were witnessed, too many gaps were created"
   ]
  }
 ],
 "metadata": {
  "kernelspec": {
   "display_name": "Python 3",
   "language": "python",
   "name": "python3"
  },
  "language_info": {
   "codemirror_mode": {
    "name": "ipython",
    "version": 3
   },
   "file_extension": ".py",
   "mimetype": "text/x-python",
   "name": "python",
   "nbconvert_exporter": "python",
   "pygments_lexer": "ipython3",
   "version": "3.7.3"
  }
 },
 "nbformat": 4,
 "nbformat_minor": 4
}
