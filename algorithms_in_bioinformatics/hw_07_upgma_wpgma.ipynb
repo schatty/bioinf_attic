{
 "cells": [
  {
   "cell_type": "markdown",
   "metadata": {},
   "source": [
    "## Homework Assignment #07 UPGMA/WPGMA\n",
    "\n",
    "Implement UPGMA and WPGMA algorithms"
   ]
  },
  {
   "cell_type": "code",
   "execution_count": 1,
   "metadata": {},
   "outputs": [],
   "source": [
    "import numpy as np\n",
    "\n",
    "def pgma(d_matrix, leaves_names, use_weight, debug=False):\n",
    "    \"\"\"\n",
    "    a (numpy.ndarray): distance matrix\n",
    "    use_weight (bool): whether to use weight coefficients\n",
    "    debug (bool): flag to pring intermediate info.\n",
    "    \n",
    "    return (str): tree in Newick format.\n",
    "    \"\"\"\n",
    "    def display_fn(debug_flag):\n",
    "        def foo(text):\n",
    "            if debug_flag:\n",
    "                print(text)\n",
    "        return foo\n",
    "    print_debug = display_fn(debug)\n",
    "    \n",
    "    n = len(leaves_names)\n",
    "    newick = {k: {'val': None} for k in leaves_names}\n",
    "    a = np.copy(d_matrix)\n",
    "    a_new = np.copy(a)\n",
    "    leaves = leaves_names[:]\n",
    "    \n",
    "    for i_n in range(len(leaves)-1):\n",
    "        print_debug(f\"\\nSTEP {i_n+1}\")\n",
    "        \n",
    "        # Create new matrix (unefficient but more clear)\n",
    "        a = a_new\n",
    "        # Use inf as super high scores as we will pick minimum value\n",
    "        a_new = np.ones((n-1-i_n, n-i_n)) * np.inf\n",
    "        \n",
    "        # Find most close leaves\n",
    "        i_min, j_min = np.unravel_index(np.argmin(a, axis=None), a.shape)\n",
    "        # Let i_min always be smaller than j_min\n",
    "        if i_min > j_min:\n",
    "            i_min, j_min = j_min, i_min\n",
    "        print_debug(f\"Indices of min val: {i_min} {j_min}\")\n",
    "        \n",
    "        # Add leaves info to the newick format\n",
    "        val = np.min(a) / 2\n",
    "        if newick[leaves[i_min]]['val'] is None and newick[leaves[j_min]]['val'] is None:\n",
    "            merged = f\"({leaves[i_min]}:{val}, {leaves[j_min]}:{val})\"\n",
    "            new_key = leaves[i_min] + leaves[j_min]\n",
    "            newick[new_key] = {'val': merged, 'len': val}\n",
    "        elif newick[leaves[i_min]]['val'] is None:\n",
    "            old_score = val - newick[leaves[j_min]]['len']\n",
    "            merged = f\"({newick[leaves[j_min]]['val']}:{old_score}, {leaves[i_min]}:{val})\"\n",
    "            new_key = leaves[i_min] + leaves[j_min]\n",
    "            newick[new_key] = {'val': merged, 'len': val}\n",
    "        elif newick[leaves[j_min]]['val'] is None:\n",
    "            old_score = val - newick[leaves[i_min]]['len']\n",
    "            merged = f\"({newick[leaves[i_min]]['val']}:{old_score}, {leaves[j_min]}:{val})\"\n",
    "            new_key = leaves[i_min] + leaves[j_min]\n",
    "            newick[new_key] = {'val': merged, 'len': val}\n",
    "        else:\n",
    "            i_score = val - newick[leaves[i_min]]['len']\n",
    "            j_score = val - newick[leaves[j_min]]['len']\n",
    "            merged = f\"({newick[leaves[i_min]]['val']}:{i_score}, {newick[leaves[j_min]]['val']}:{j_score})\"\n",
    "            new_key = leaves[i_min] + leaves[j_min]\n",
    "            newick[new_key] = {'val': merged, 'len': val}\n",
    "        del newick[leaves[i_min]]\n",
    "        del newick[leaves[j_min]]\n",
    "    \n",
    "        print_debug(f\"Current newick: {newick}\")\n",
    "        \n",
    "        # Determine weights\n",
    "        w_i = w_j = 1\n",
    "        if use_weight:\n",
    "            w_i, w_j = len(leaves[i_min]), len(leaves[j_min])\n",
    "        print_debug(f\"weights {w_i} {w_j}\")\n",
    "        \n",
    "        # Change leaves' names\n",
    "        leaves[i_min] = leaves[i_min] + leaves[j_min]\n",
    "        leaves[j_min:-1] = leaves[j_min+1:]\n",
    "        leaves = leaves[:-1]\n",
    "        print_debug(f\"Merged leaves: {leaves}\")\n",
    "        \n",
    "        if len(leaves) == 1:\n",
    "            print_debug(\"End algorithm.\")\n",
    "            break\n",
    "\n",
    "        # Create new reduced matrix\n",
    "        a_new = np.ones((n-1-i_n, n-1-i_n)) * np.inf\n",
    "        \n",
    "        # Transfer old matrix values to the new one\n",
    "        print_debug(f\"Matrix:\\n {a}\")\n",
    "        for i in range(n-1-i_n):\n",
    "            if i in [i_min, j_min]:\n",
    "                continue\n",
    "            for j in range(i+1, n-i_n):\n",
    "                if j in [i_min, j_min]:\n",
    "                    continue\n",
    "                # Shift elements backwards\n",
    "                if j > i_min and i > j_min:\n",
    "                    a_new[i-1, j-1] = a[i, j]\n",
    "                elif j > j_min:\n",
    "                    a_new[i, j-1] = a[i, j]\n",
    "                else:\n",
    "                    a_new[i, j] = a[i, j]\n",
    "                            \n",
    "        # let i be the index of the merged columns \n",
    "        \n",
    "        # Calculate merged column\n",
    "        for i in range(n-i_n):\n",
    "            if i not in [i_min, j_min]:            \n",
    "                score = (w_i * a[min(i_min, i), max(i_min, i)] + w_j * a[min(j_min, i), max(j_min, i)]) / (w_i + w_j)\n",
    "                if i < j_min:\n",
    "                    a_new[min(i, i_min), max(i, i_min)] = score\n",
    "                else:\n",
    "                    a_new[min(i-1, i_min), max(i-1, i_min)] = score\n",
    "                \n",
    "        print_debug(f\"New matrix:\\n {a_new}\")\n",
    "        \n",
    "    return newick[list(newick.keys())[0]]['val']\n",
    "    \n",
    "\n",
    "    \n",
    "def wpgma(a, leaves, debug=False):\n",
    "    return pgma(a, leaves, use_weight=False, debug=debug)\n",
    "\n",
    "\n",
    "def upgma(a, leaves, debug=False):\n",
    "    return pgma(a, leaves, use_weight=True, debug=debug)"
   ]
  },
  {
   "cell_type": "markdown",
   "metadata": {},
   "source": [
    "## Preliminary tests"
   ]
  },
  {
   "cell_type": "markdown",
   "metadata": {},
   "source": [
    "### Prelim. test 1 from in-class tutorial"
   ]
  },
  {
   "cell_type": "code",
   "execution_count": 2,
   "metadata": {},
   "outputs": [
    {
     "name": "stdout",
     "output_type": "stream",
     "text": [
      "\n",
      "STEP 1\n",
      "Indices of min val: 2 3\n",
      "Current newick: {'K': {'val': None}, 'L': {'val': None}, 'MN': {'val': '(M:2.0, N:2.0)', 'len': 2.0}}\n",
      "weights 1 1\n",
      "Merged leaves: ['K', 'L', 'MN']\n",
      "Matrix:\n",
      " [[inf 16. 16. 10.]\n",
      " [inf inf  8.  8.]\n",
      " [inf inf inf  4.]\n",
      " [inf inf inf inf]]\n",
      "New matrix:\n",
      " [[inf 16. 13.]\n",
      " [inf inf  8.]\n",
      " [inf inf inf]]\n",
      "\n",
      "STEP 2\n",
      "Indices of min val: 1 2\n",
      "Current newick: {'K': {'val': None}, 'LMN': {'val': '((M:2.0, N:2.0):2.0, L:4.0)', 'len': 4.0}}\n",
      "weights 1 1\n",
      "Merged leaves: ['K', 'LMN']\n",
      "Matrix:\n",
      " [[inf 16. 13.]\n",
      " [inf inf  8.]\n",
      " [inf inf inf]]\n",
      "New matrix:\n",
      " [[ inf 14.5]\n",
      " [ inf  inf]]\n",
      "\n",
      "STEP 3\n",
      "Indices of min val: 0 1\n",
      "Current newick: {'KLMN': {'val': '(((M:2.0, N:2.0):2.0, L:4.0):3.25, K:7.25)', 'len': 7.25}}\n",
      "weights 1 1\n",
      "Merged leaves: ['KLMN']\n",
      "End algorithm.\n",
      "WPGMA: \n",
      " (((M:2.0, N:2.0):2.0, L:4.0):3.25, K:7.25)\n"
     ]
    }
   ],
   "source": [
    "leaves = ['K', 'L', 'M', 'N']\n",
    "a = np.array([\n",
    "    [np.inf, 16, 16, 10],\n",
    "    [np.inf, np.inf, 8, 8],\n",
    "    [np.inf, np.inf, np.inf, 4],\n",
    "    [np.inf, np.inf, np.inf, np.inf]\n",
    "])\n",
    "print(\"WPGMA: \\n\", wpgma(a, leaves, debug=True))"
   ]
  },
  {
   "cell_type": "markdown",
   "metadata": {},
   "source": [
    "### Wikipedia example"
   ]
  },
  {
   "cell_type": "code",
   "execution_count": 3,
   "metadata": {},
   "outputs": [
    {
     "name": "stdout",
     "output_type": "stream",
     "text": [
      "\n",
      "STEP 1\n",
      "Indices of min val: 0 1\n",
      "Current newick: {'c': {'val': None}, 'd': {'val': None}, 'e': {'val': None}, 'ab': {'val': '(a:8.5, b:8.5)', 'len': 8.5}}\n",
      "weights 1 1\n",
      "Merged leaves: ['ab', 'c', 'd', 'e']\n",
      "Matrix:\n",
      " [[inf 17. 21. 31. 23.]\n",
      " [inf inf 30. 34. 21.]\n",
      " [inf inf inf 28. 39.]\n",
      " [inf inf inf inf 43.]]\n",
      "New matrix:\n",
      " [[ inf 25.5 32.5 22. ]\n",
      " [ inf  inf 28.  39. ]\n",
      " [ inf  inf  inf 43. ]\n",
      " [ inf  inf  inf  inf]]\n",
      "\n",
      "STEP 2\n",
      "Indices of min val: 0 3\n",
      "Current newick: {'c': {'val': None}, 'd': {'val': None}, 'abe': {'val': '((a:8.5, b:8.5):2.5, e:11.0)', 'len': 11.0}}\n",
      "weights 2 1\n",
      "Merged leaves: ['abe', 'c', 'd']\n",
      "Matrix:\n",
      " [[ inf 25.5 32.5 22. ]\n",
      " [ inf  inf 28.  39. ]\n",
      " [ inf  inf  inf 43. ]\n",
      " [ inf  inf  inf  inf]]\n",
      "New matrix:\n",
      " [[inf 30. 36.]\n",
      " [inf inf 28.]\n",
      " [inf inf inf]]\n",
      "\n",
      "STEP 3\n",
      "Indices of min val: 1 2\n",
      "Current newick: {'abe': {'val': '((a:8.5, b:8.5):2.5, e:11.0)', 'len': 11.0}, 'cd': {'val': '(c:14.0, d:14.0)', 'len': 14.0}}\n",
      "weights 1 1\n",
      "Merged leaves: ['abe', 'cd']\n",
      "Matrix:\n",
      " [[inf 30. 36.]\n",
      " [inf inf 28.]\n",
      " [inf inf inf]]\n",
      "New matrix:\n",
      " [[inf 33.]\n",
      " [inf inf]]\n",
      "\n",
      "STEP 4\n",
      "Indices of min val: 0 1\n",
      "Current newick: {'abecd': {'val': '(((a:8.5, b:8.5):2.5, e:11.0):5.5, (c:14.0, d:14.0):2.5)', 'len': 16.5}}\n",
      "weights 3 2\n",
      "Merged leaves: ['abecd']\n",
      "End algorithm.\n",
      "(((a:8.5, b:8.5):2.5, e:11.0):5.5, (c:14.0, d:14.0):2.5)\n"
     ]
    }
   ],
   "source": [
    "leaves = ['a', 'b', 'c', 'd', 'e']\n",
    "a = np.array([\n",
    "    [np.inf, 17, 21, 31, 23],\n",
    "    [np.inf, np.inf, 30, 34, 21],\n",
    "    [np.inf, np.inf, np.inf, 28, 39],\n",
    "    [np.inf, np.inf, np.inf, np.inf, 43]\n",
    "])\n",
    "print(upgma(a, leaves, debug=True))"
   ]
  },
  {
   "cell_type": "markdown",
   "metadata": {},
   "source": [
    "## Test1"
   ]
  },
  {
   "cell_type": "code",
   "execution_count": 4,
   "metadata": {},
   "outputs": [
    {
     "name": "stdout",
     "output_type": "stream",
     "text": [
      "WPGMA:  (((c:2.0, d:2.0):2.0, b:4.0):3.25, a:7.25)\n",
      "UPGMA:  (((c:2.0, d:2.0):2.0, b:4.0):3.0, a:7.0)\n"
     ]
    }
   ],
   "source": [
    "leaves = ['a', 'b', 'c', 'd']\n",
    "a = np.array([\n",
    "    [np.inf, 16, 16, 10],\n",
    "    [np.inf, np.inf, 8, 8],\n",
    "    [np.inf, np.inf, np.inf, 4],\n",
    "    [np.inf, np.inf, np.inf, np.inf]\n",
    "])\n",
    "print('WPGMA: ', wpgma(a, leaves))\n",
    "print('UPGMA: ', upgma(a, leaves))"
   ]
  },
  {
   "cell_type": "markdown",
   "metadata": {},
   "source": [
    "## Test 2"
   ]
  },
  {
   "cell_type": "code",
   "execution_count": 5,
   "metadata": {},
   "outputs": [
    {
     "name": "stdout",
     "output_type": "stream",
     "text": [
      "WPGMA:  ((((a:2.0, c:2.0):1.0, b:3.0):1.0, (d:2.5, e:2.5):1.5):0.5, f:4.5)\n",
      "UPGMA:  ((((a:2.0, c:2.0):1.0, b:3.0):0.75, (d:2.5, e:2.5):1.25):0.6500000000000004, f:4.4)\n"
     ]
    }
   ],
   "source": [
    "leaves = ['a', 'b', 'c', 'd', 'e', 'f']\n",
    "a = np.array([\n",
    "    [np.inf, 5, 4, 7, 6, 8],\n",
    "    [np.inf, np.inf, 7, 10, 9, 11],\n",
    "    [np.inf, np.inf, np.inf, 7, 6, 8],\n",
    "    [np.inf, np.inf, np.inf, np.inf, 5, 9],\n",
    "    [np.inf, np.inf, np.inf, np.inf, np.inf, 8],\n",
    "    [np.inf, np.inf, np.inf, np.inf, np.inf, np.inf]\n",
    "])\n",
    "print('WPGMA: ', wpgma(a, leaves))\n",
    "print('UPGMA: ', upgma(a, leaves))"
   ]
  }
 ],
 "metadata": {
  "kernelspec": {
   "display_name": "Python 3",
   "language": "python",
   "name": "python3"
  },
  "language_info": {
   "codemirror_mode": {
    "name": "ipython",
    "version": 3
   },
   "file_extension": ".py",
   "mimetype": "text/x-python",
   "name": "python",
   "nbconvert_exporter": "python",
   "pygments_lexer": "ipython3",
   "version": "3.7.3"
  }
 },
 "nbformat": 4,
 "nbformat_minor": 4
}
