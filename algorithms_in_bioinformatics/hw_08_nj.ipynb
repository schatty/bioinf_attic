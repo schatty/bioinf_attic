{
 "cells": [
  {
   "cell_type": "markdown",
   "metadata": {},
   "source": [
    "# Homework Assignment #08. Neighbour Joining\n",
    "Implement neighbour joining algorithm"
   ]
  },
  {
   "cell_type": "code",
   "execution_count": 1,
   "metadata": {},
   "outputs": [],
   "source": [
    "import numpy as np\n",
    "\n",
    "def calc_sum_dist_spilman(a, from_i, except_j):\n",
    "    s = sum([a[from_i, k] for k in range(a.shape[1]) if a[from_i, k] != np.inf and k != except_j] \n",
    "            + [a[k, from_i] for k in range(a.shape[0]) if a[k, from_i] != np.inf and k != except_j])\n",
    "    return s / (a.shape[0]-2)\n",
    "\n",
    "\n",
    "def calc_sum_dist_wiki(a, i, j):\n",
    "    n = a.shape[0]\n",
    "    raw_s = sum([a[i, k] for k in range(n) if a[i, k] != np.inf] + [a[k, i] for k in range(n) if a[k, i] != np.inf])  \n",
    "    col_s = sum([a[j, k] for k in range(n) if a[j, k] != np.inf] + [a[k, j] for k in range(n) if a[k, j] != np.inf])  \n",
    "    d_ij = a[min(i, j), max(i, j)]\n",
    "    score = d_ij * (a.shape[0]-2) - raw_s - col_s\n",
    "    return score\n",
    "    \n",
    "    \n",
    "def calc_dist_to_node(a, i, j):\n",
    "    n = a.shape[0]\n",
    "    row_sum = sum([a[i, k] for k in range(n) if a[i, k] != np.inf] + [a[k, i] for k in range(n) if a[k, i] != np.inf])\n",
    "    col_sum = sum([a[j, k] for k in range(n) if a[j, k] != np.inf] + [a[k, j] for k in range(n) if a[k, j] != np.inf])  \n",
    "    d_1 = 0.5 * a[i, j] + 1/(2*(n-2)) * (row_sum - col_sum)\n",
    "    d_2 = a[i, j] - d_1\n",
    "    return d_1, d_2\n",
    "    \n",
    "def nj(d_matrix, leaves_names, debug=False):\n",
    "    \"\"\"\n",
    "    d_matrix (numpy.ndarray): distance matrix\n",
    "    debug (bool): flag to pring intermediate info.\n",
    "    \n",
    "    return (str): tree in Newick format.\n",
    "    \"\"\"\n",
    "    def display_fn(debug_flag):\n",
    "        def foo(text):\n",
    "            if debug_flag:\n",
    "                print(text)\n",
    "        return foo\n",
    "    print_debug = display_fn(debug)\n",
    "    \n",
    "    n = len(leaves_names)\n",
    "    newick = {k: {'val': None} for k in leaves_names}\n",
    "    a = np.copy(d_matrix)\n",
    "    a_new = np.copy(a)\n",
    "    leaves = leaves_names[:]\n",
    "    \n",
    "    for i_n in range(len(leaves)-1):\n",
    "        print_debug(f\"\\nSTEP {i_n+1}\")\n",
    "        \n",
    "        # Create new matrix (unefficient but more clear)\n",
    "        a = a_new\n",
    "        # Use inf as super high scores as we will pick minimum value\n",
    "        a_new = np.ones((n-1-i_n, n-i_n)) * np.inf\n",
    "        \n",
    "        # Find most close leaves\n",
    "        i_min, j_min = 0, 0\n",
    "        min_score = np.inf\n",
    "        for i in range(a.shape[0]):\n",
    "            for j in range(i+1, a.shape[1]):\n",
    "                #score = a[i, j] - calc_sum_dist_spilman(a, i, j) - calc_sum_dist_spilman(a, j, i)\n",
    "                score = calc_sum_dist_wiki(a, i, j)\n",
    "                if score < min_score:\n",
    "                    print_debug(f\"New score at: {i}, {j} {score}\")\n",
    "                    min_score = score\n",
    "                    i_min, j_min = i, j\n",
    "        print_debug(f\"Minimum score: {min_score} ({i_min}, {j_min})\")\n",
    "        \n",
    "        # Let i_min always be smaller than j_min\n",
    "        if i_min > j_min:\n",
    "            i_min, j_min = j_min, i_min\n",
    "        print_debug(f\"Indices of min val: {i_min}, {j_min} ({leaves[i_min]} vs. {leaves[j_min]})\")\n",
    "        \n",
    "        # Add leaves info to the newick format\n",
    "        #val_i = 0.5 * (a[i_min, j_min] + calc_sum_dist_spilman(a, i_min, j_min) - calc_sum_dist_spilman(a, j_min, i_min))\n",
    "        #val_j = 0.5 * (a[i_min, j_min] + calc_sum_dist_spilman(a, j_min, i_min) - calc_sum_dist_spilman(a, i_min, j_min))\n",
    "        val_i, val_j = calc_dist_to_node(a, i_min, j_min)\n",
    "        print_debug(f\"Vals: {val_i,} {val_j}\")\n",
    "        if newick[leaves[i_min]]['val'] is None and newick[leaves[j_min]]['val'] is None:\n",
    "            merged = f\"({leaves[i_min]}:{val_i}, {leaves[j_min]}:{val_j})\"\n",
    "            new_key = leaves[i_min] + leaves[j_min]\n",
    "            newick[new_key] = {'val': merged}\n",
    "        elif newick[leaves[i_min]]['val'] is None:\n",
    "            merged = f\"({newick[leaves[j_min]]['val']}:{val_j}, {leaves[i_min]}:{val_i})\"\n",
    "            new_key = leaves[i_min] + leaves[j_min]\n",
    "            newick[new_key] = {'val': merged}\n",
    "        elif newick[leaves[j_min]]['val'] is None:\n",
    "            merged = f\"({newick[leaves[i_min]]['val']}:{val_i}, {leaves[j_min]}:{val_j})\"\n",
    "            new_key = leaves[i_min] + leaves[j_min]\n",
    "            newick[new_key] = {'val': merged}\n",
    "        else:\n",
    "            merged = f\"({newick[leaves[i_min]]['val']}:{val_i}, {newick[leaves[j_min]]['val']}:{val_j})\"\n",
    "            new_key = leaves[i_min] + leaves[j_min]\n",
    "            newick[new_key] = {'val': merged}\n",
    "        del newick[leaves[i_min]]\n",
    "        del newick[leaves[j_min]]\n",
    "    \n",
    "        print_debug(f\"Current newick: {newick}\")\n",
    "        \n",
    "        # Change leaves' names\n",
    "        leaves[i_min] = leaves[i_min] + leaves[j_min]\n",
    "        leaves[j_min:-1] = leaves[j_min+1:]\n",
    "        leaves = leaves[:-1]\n",
    "        print_debug(f\"Merged leaves: {leaves}\")\n",
    "        \n",
    "        if len(leaves) == 2:\n",
    "            if sorted([i_min, j_min]) == [0, 1]:\n",
    "                ind_last = 2\n",
    "            elif sorted([i_min, j_min]) == [0, 2]:\n",
    "                ind_last = 1\n",
    "            else:\n",
    "                ind_last = 0\n",
    "            score_last = a[i_min, ind_last] - val_i\n",
    "            print_debug(f\"Last tree: {ind_last}, {score_last}\")\n",
    "            \n",
    "            ind_last -=1\n",
    "            if newick[leaves[ind_last]]['val'] is None:\n",
    "                merged = f\"({newick[leaves[i_min]]['val']}:{val_i}, {leaves[ind_last]}:{score_last})\"\n",
    "                new_key = leaves[i_min] + leaves[ind_last]\n",
    "                newick[new_key] = {'val': merged}\n",
    "            else:\n",
    "                merged = f\"({newick[leaves[i_min]]['val']}:{val_i}, {newick[leaves[ind_last]]['val']}:{score_last})\"\n",
    "                new_key = leaves[i_min] + leaves[ind_last]\n",
    "                newick[new_key] = {'val': merged}\n",
    "            \n",
    "                print_debug(\"End algorithm.\")\n",
    "            break\n",
    "\n",
    "        # Create new reduced matrix\n",
    "        a_new = np.ones((n-1-i_n, n-1-i_n)) * np.inf\n",
    "        \n",
    "        # Transfer old matrix values to the new one\n",
    "        print_debug(f\"Matrix:\\n {a}\")\n",
    "        for i in range(n-1-i_n):\n",
    "            if i in [i_min, j_min]:\n",
    "                continue\n",
    "            for j in range(i+1, n-i_n):\n",
    "                if j in [i_min, j_min]:\n",
    "                    continue\n",
    "                # Shift elements backwards\n",
    "                if j > i_min and i > j_min:\n",
    "                    a_new[i-1, j-1] = a[i, j]\n",
    "                elif j > j_min:\n",
    "                    a_new[i, j-1] = a[i, j]\n",
    "                else:\n",
    "                    a_new[i, j] = a[i, j]\n",
    "                            \n",
    "        # let i be the index of the merged columns \n",
    "        \n",
    "        # Calculate merged column\n",
    "        for i in range(n-i_n):\n",
    "            if i not in [i_min, j_min]:            \n",
    "                score = 0.5 * (a[min(i_min, i), max(i_min, i)] + a[min(j_min, i), max(j_min, i)] - a[i_min, j_min])\n",
    "                if i < j_min:\n",
    "                    a_new[min(i, i_min), max(i, i_min)] = score\n",
    "                else:\n",
    "                    a_new[min(i-1, i_min), max(i-1, i_min)] = score\n",
    "                \n",
    "        print_debug(f\"New matrix:\\n {a_new}\")\n",
    "        \n",
    "    return newick[new_key]['val']#newick[list(newick.keys())[0]]['val']"
   ]
  },
  {
   "cell_type": "markdown",
   "metadata": {},
   "source": [
    "### Preliminary test with known output\n",
    "<img width=\"200\" alt=\"tree\" src=\"https://user-images.githubusercontent.com/23639048/68604635-fc821380-04bb-11ea-89ac-36c012091b32.png\">"
   ]
  },
  {
   "cell_type": "code",
   "execution_count": 2,
   "metadata": {},
   "outputs": [
    {
     "name": "stdout",
     "output_type": "stream",
     "text": [
      "NJ:  ((((a:2.0, b:3.0):3.0, c:4.0):2.0, d:2.0):2.0, e:1.0)\n"
     ]
    }
   ],
   "source": [
    "leaves = ['a', 'b', 'c', 'd', 'e']\n",
    "a = np.array([\n",
    "    [np.inf, 5, 9, 9, 8],\n",
    "    [np.inf, np.inf, 10, 10, 9],\n",
    "    [np.inf, np.inf, np.inf, 8, 7],\n",
    "    [np.inf, np.inf, np.inf, np.inf, 3],\n",
    "    [np.inf, np.inf, np.inf, np.inf, np.inf]\n",
    "])\n",
    "print('NJ: ', nj(a, leaves, debug=False))"
   ]
  },
  {
   "cell_type": "markdown",
   "metadata": {},
   "source": [
    "### Test 1"
   ]
  },
  {
   "cell_type": "code",
   "execution_count": 3,
   "metadata": {},
   "outputs": [
    {
     "name": "stdout",
     "output_type": "stream",
     "text": [
      "NJ:  (((a:10.0, d:0.0):2.0, b:5.0):2.0, c:3.0)\n"
     ]
    }
   ],
   "source": [
    "leaves = ['a', 'b', 'c', 'd']\n",
    "a = np.array([\n",
    "    [np.inf, 16, 16, 10],\n",
    "    [np.inf, np.inf, 8, 8],\n",
    "    [np.inf, np.inf, np.inf, 4],\n",
    "    [np.inf, np.inf, np.inf, np.inf]\n",
    "])\n",
    "print('NJ: ', nj(a, leaves, debug=False))"
   ]
  },
  {
   "cell_type": "markdown",
   "metadata": {},
   "source": [
    "### Test 2"
   ]
  },
  {
   "cell_type": "code",
   "execution_count": 4,
   "metadata": {},
   "outputs": [
    {
     "name": "stdout",
     "output_type": "stream",
     "text": [
      "NJ:  (((((a:1.0, b:4.0):1.0, c:2.0):1.0, f:5.0):1.0, d:3.0):1.0, e:2.0)\n"
     ]
    }
   ],
   "source": [
    "leaves = ['a', 'b', 'c', 'd', 'e', 'f']\n",
    "a = np.array([\n",
    "    [np.inf, 5, 4, 7, 6, 8],\n",
    "    [np.inf, np.inf, 7, 10, 9, 11],\n",
    "    [np.inf, np.inf, np.inf, 7, 6, 8],\n",
    "    [np.inf, np.inf, np.inf, np.inf, 5, 9],\n",
    "    [np.inf, np.inf, np.inf, np.inf, np.inf, 8],\n",
    "    [np.inf, np.inf, np.inf, np.inf, np.inf, np.inf]\n",
    "])\n",
    "print('NJ: ', nj(a, leaves, debug=False))"
   ]
  }
 ],
 "metadata": {
  "kernelspec": {
   "display_name": "Python 3",
   "language": "python",
   "name": "python3"
  },
  "language_info": {
   "codemirror_mode": {
    "name": "ipython",
    "version": 3
   },
   "file_extension": ".py",
   "mimetype": "text/x-python",
   "name": "python",
   "nbconvert_exporter": "python",
   "pygments_lexer": "ipython3",
   "version": "3.7.3"
  }
 },
 "nbformat": 4,
 "nbformat_minor": 4
}
