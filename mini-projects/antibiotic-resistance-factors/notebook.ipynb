{
 "cells": [
  {
   "cell_type": "markdown",
   "metadata": {},
   "source": [
    "# Project #1 \"What causes antibiotic resistance?\"\n",
    "\n",
    "__Daria Tziba__, __Igor Kuznetsov__\n",
    "\n",
    "Following steps can be used to reproduce results from the mini-paper.\n",
    "Working envioronment: _Ubuntu 18.04, Intel i5_"
   ]
  },
  {
   "cell_type": "markdown",
   "metadata": {},
   "source": [
    "## 1. Obtaining data\n",
    "\n",
    "Download data of reference sequence of the E. coli strain not resistant to antibiotics.\n",
    "\n",
    "`wget ftp://ftp.ncbi.nlm.nih.gov/genomes/all/GCF/000/005/845/GCF_000005845.2_ASM584v2/GCF_000005845.2_ASM584v2_genomic.fna.gz`\n",
    "\n",
    "`wget ftp://ftp.ncbi.nlm.nih.gov/genomes/all/GCF/000/005/845/GCF_000005845.2_ASM584v2/GCF_000005845.2_ASM584v2_genomic.gff.gz`\n",
    "\n",
    "Unzip data\n",
    "\n",
    "`gunzip GCF_000005845.2_ASM584v2_genomic.fna.gz`\n",
    "\n",
    "`gunzip GCF_000005845.2_ASM584v2_genomic.gff.gz`\n",
    "\n",
    "Donwload raw Illumina sequencing reads fro shotgun sequencing of an E.col strain that is resistant to the antibiotic ampicilin (1 and 2 refer to forward and reverse)\n",
    "\n",
    "`wget http://public.dobzhanskycenter.ru/mrayko/amp_res_1.fastq.zip`\n",
    "\n",
    "`wget http://public.dobzhanskycenter.ru/mrayko/amp_res_2.fastq.zip`\n",
    "\n",
    "Unzip data\n",
    "\n",
    "`unzip amp_res_1.fastq.zip`\n",
    "\n",
    "`unzip amp_res_2.fastq.zip`"
   ]
  },
  {
   "cell_type": "markdown",
   "metadata": {},
   "source": [
    "## 2. Inspect raw sequencing data\n",
    "\n",
    "Head of the forward .fastq file\n",
    "\n",
    "`head -8 amp_res_1.fastq`"
   ]
  },
  {
   "cell_type": "raw",
   "metadata": {},
   "source": [
    "@SRR1363257.37 GWZHISEQ01:153:C1W31ACXX:5:1101:14027:2198 length=101\n",
    "GGTTGCAGATTCGCAGTGTCGCTGTTCCAGCGCATCACATCTTTGATGTTCACGCCGTGGCGTTTAGCAATGCTTGAAAGCGAATCGCCTTTGCCCACACG\n",
    "+\n",
    "@?:=:;DBFADH;CAECEE@@E:FFHGAE4?C?DE<BFGEC>?>FHE4BFFIIFHIBABEECA83;>>@>@CCCDC9@@CC08<@?@BB@9:CC#######\n",
    "@SRR1363257.46 GWZHISEQ01:153:C1W31ACXX:5:1101:19721:2155 length=101\n",
    "GTATGAGGTTTTGCTGCATTCTCTGNGCGAATATTAACTCCNTNNNNNTTATAGTTCAAAGCAAGTACCTGTCTCTTATACACATCTCCGAGCCCACGAGC\n",
    "+\n",
    "@@<?=D?D==?<AFGDF+AIHEACH#22<:?E8??:9??GG#0#####000;CF=C)4.==CA@@@)=7?C7?E37;3@>;;(.;>AB#############`\n",
    "\n",
    "`head -8 amp_res_2.fastq`\n",
    "\n",
    "`@SRR1363257.37 GWZHISEQ01:153:C1W31ACXX:5:1101:14027:2198 length=101\n",
    "GATCTAAGCTGAAGCCAGGCCAAAGTTTGACGATTGGTGCAGGCAGTAGCGCACAGCGACTGGCAAACAACAGCGATAGCATTACGTATCGTGTGCGCAAA\n",
    "+\n",
    "???BDB:DFHBFD@9;;+A;AFGH;ABHFHHGE@9:B:??@D>@;F?D8<<F8AA9EHHD8'..;5?A?A992(',(59CC3@C>22::A238+2>B<>B<\n",
    "@SRR1363257.46 GWZHISEQ01:153:C1W31ACXX:5:1101:19721:2155 length=101\n",
    "GTACTTGCTTTGNACTATAATATGCACGGAGNTAATATTCGCTCAGAGAATGCAGCAAAACCTCATACCTGTCTCTTATACACATCTGACGCTGCCGACGA\n",
    "+\n",
    ";@@DB?B;CFBB#2<:CB:FH<C@:<A?C::#1:86:BG9:8?8688?888EBF;783)=6-7=CC;ECD);?7;;>>AE;>(5;->AC@;B@;8?#####"
   ]
  },
  {
   "cell_type": "markdown",
   "metadata": {},
   "source": [
    "Counting words in the fasta files\n",
    "\n",
    "`wc -l amp_res_1.fastq`\n",
    "\n",
    "Output:"
   ]
  },
  {
   "cell_type": "raw",
   "metadata": {},
   "source": [
    "1823504 amp_res_1.fastq"
   ]
  },
  {
   "cell_type": "markdown",
   "metadata": {},
   "source": [
    "`wc -l amp_res_2.fastq`\n",
    "\n",
    "Output:"
   ]
  },
  {
   "cell_type": "raw",
   "metadata": {},
   "source": [
    "1823504 amp_res_2.fastq"
   ]
  },
  {
   "cell_type": "markdown",
   "metadata": {},
   "source": [
    "Number of lines: $\\frac{1823504}{4} = 455876$"
   ]
  },
  {
   "cell_type": "markdown",
   "metadata": {},
   "source": [
    "### 3. Inspecting raw sequencing data with fastqc\n",
    "\n",
    "3.1) Install __fastqc__ program - simmple statistics analysis tool\n",
    "\n",
    "`sudo apt-get install fastqc`\n",
    "\n",
    "Run fastqc on two fasta files \n",
    "\n",
    "`fastqc -o . amp_res_1.fastq amp_res_2.fastq`\n",
    "\n",
    "Unusual anomaly for forward strand #1 (base sequence quality)\n",
    "    \n",
    "![title](init_per_base_seq_quality_1.png)\n",
    "\n",
    "Meaning: we can see that per base sequence quality is lower than 20 quality score.\n",
    "\n",
    "The graph below allows to look at the quality scores from each tile across all of the bases to see if there was a loss in quality associated with only one part of the flowcell. Failure shows thwhen a mean Phred score more than 5 less than the mean for that base across all tiles.\n",
    "\n",
    "Unusual anomaly for forward strand #2 (tile sequence quality)\n",
    "\n",
    "![title](init_per_tile_seq_quality_1.png)\n",
    "\n",
    "Unusual anomaly for reverse strand\n",
    "\n",
    "![title](init_per_base_seq_quality_2.png)"
   ]
  },
  {
   "cell_type": "markdown",
   "metadata": {},
   "source": [
    "## 4. Filter the reads\n",
    "\n",
    "Following steps are commited to improve the overall quality of the sequencing reads before proceeding with downstream analyssis. \n",
    "\n",
    "4.1) Install trimming program Trimmoma\n",
    "\n",
    "`sudo apt-get install trimmomatic`\n",
    "\n",
    "4.2) gzip Illumina sequences for using via Trimmoma\n",
    "\n",
    "`gzip amp_res_1.fastq`\n",
    "\n",
    "`gzip amp_res_2.fastq`\n",
    "\n",
    "__Note__: we will use `-phred33` parameter as for Illumina 1.9\n",
    "\n",
    "4.3) Run TrimmomaticPE\n",
    "\n",
    "`mkdir trim20`\n",
    "\n",
    "`TrimmomaticPE -phred33 amp_res_1.fastq.gz amp_res_2.fastq.gz trim20/output_1P.fq.gz trim20/output_1U.fq.gz trim20/output_2P.fq.gz trim20/output_2U.fq.gz ILLUMINACLIP:TruSeq3-PE.fa:2:30:10:2:keepBothReads LEADING:20 TRAILING:20 SLIDINGWINDOW:10:20 MINLEN:20`\n",
    "\n",
    "Output:"
   ]
  },
  {
   "cell_type": "raw",
   "metadata": {},
   "source": [
    "Using PrefixPair: 'TACACTCTTTCCCTACACGACGCTCTTCCGATCT' and 'GTGACTGGAGTTCAGACGTGTGCTCTTCCGATCT'\n",
    "ILLUMINACLIP: Using 1 prefix pairs, 0 forward/reverse sequences, 0 forward only sequences, 0 reverse only sequences\n",
    "Input Read Pairs: 455876 Both Surviving: 439769 (96.47%) Forward Only Surviving: 15706 (3.45%) Reverse Only Surviving: 266 (0.06%) Dropped: 135 (0.03%)\n",
    "TrimmomaticPE: Completed successfully"
   ]
  },
  {
   "cell_type": "markdown",
   "metadata": {},
   "source": [
    "4.5) Count read in trimmed sequences\n",
    "\n",
    "`cd trim20`\n",
    "\n",
    "`gunzip output_1P.fq.gz`\n",
    "\n",
    "`gunzip output_2P.fq.gz`\n",
    "\n",
    "`wc -l output_1P.fq`\n",
    "\n",
    "Output: $\\frac{148810}{4} = 439769$\n",
    "\n",
    "4.6) Run fastqc on trimmed=20 data\n",
    "\n",
    "`fastqc -o . output_1P.fq output_2P.fq`\n",
    "\n",
    "Result: in the forward strand only per_tile_seq quality remain with anomaly, in reverse strand anomaly vanished.\n",
    "\n",
    "The only lseft anomaly:\n",
    "\n",
    "![title](trim20_per_tile_seq_quality_1.png)\n",
    "\n",
    "4.7) Try to increase trim parameter to 30\n",
    "\n",
    "`mkdir trim30`\n",
    "\n",
    "`TrimmomaticPE -phred33 amp_res_1.fastq.gz amp_res_2.fastq.gz  trim30/output_1P.fq.gz trim30/output_1U.fq.gz trim30/output_2P.fq.gz trim30/output_2U.fq.gz ILLUMINACLIP:TruSeq3-PE.fa:2:30:10:2:keepBothReads LEADING:30 TRAILING:30 SLIDINGWINDOW:10:30 MINLEN:30`\n",
    "\n",
    "`gunzip output_1p.fq.gz`\n",
    "\n",
    "`gunzip output_2p.fq.gz`\n",
    "\n",
    "`wc -l output_1P.fq`\n",
    "\n",
    "Number of reads: $\\frac{1484276}{4}=371069$\n",
    "\n",
    "__Conclusion__: trimming with limit 30 cut too many reads, so for the following steps we will use reads trimmed with size of 20."
   ]
  },
  {
   "cell_type": "markdown",
   "metadata": {},
   "source": [
    "### 5. Aligning sequences to reference\n",
    "\n",
    "__5.1) Index the reference file via bwa tool__\n",
    "\n",
    "`sudo apt-get install bwa`\n",
    "\n",
    "`bwa index -a bwtsw GCF_000005845.2_ASM584v2_genomic.fna`\n",
    "\n",
    "__5.2) Aligning reads__\n",
    "\n",
    "Aligning reads\n",
    "bwa mem GCF_000005845.2_ASM584v2_genomic.fna trim20/output_1P.fq trim20/output_2P.fq > alignment.sam\n",
    "\n",
    "\n",
    "__5.3) Compress SAM file to BAM via samtools program__\n",
    "\n",
    "`sudo apt-get samtools`\n",
    "\n",
    "Compress SAM file to BAM format:\n",
    "\n",
    "`samtools view -S -b alignment.sam > alignment.bam`\n",
    "\n",
    "To get statistics:\n",
    "\n",
    "`samtools flagstat alignment.bam`\n",
    "\n",
    "Output:"
   ]
  },
  {
   "cell_type": "raw",
   "metadata": {},
   "source": [
    "879796 + 0 in total (QC-passed reads + QC-failed reads)\n",
    "0 + 0 secondary\n",
    "258 + 0 supplementary\n",
    "0 + 0 duplicates\n",
    "878688 + 0 mapped (99.87% : N/A)\n",
    "879538 + 0 paired in sequencing\n",
    "439769 + 0 read1\n",
    "439769 + 0 read2\n",
    "875578 + 0 properly paired (99.55% : N/A)\n",
    "877468 + 0 with itself and mate mapped\n",
    "962 + 0 singletons (0.11% : N/A)\n",
    "0 + 0 with mate mapped to a different chr\n",
    "0 + 0 with mate mapped to a different chr (mapQ>=5)"
   ]
  },
  {
   "cell_type": "markdown",
   "metadata": {},
   "source": [
    "__5.4) Sort bam file__\n",
    "\n",
    "5.4.1) Sort bam file by sequence coordinate on reference\n",
    "\n",
    "`samtools sort alignment.bam -o alignment_sorted.bam`\n",
    "\n",
    "5.4.2) Index bam file for faster search\n",
    "\n",
    "`samtools index alignment_sorted.bam`\n",
    "\n",
    "__5.5) Visualize in IGV program __\n",
    "\n",
    "    1) Download IGV Desktop Application\n",
    "    2) Genomes -> Create .genome file -> Choose .fna file\n",
    "    3) Genomes -> Load from file (choose .fna.fai file)\n",
    "    4) File -> Load from file (choose .bam file)"
   ]
  },
  {
   "cell_type": "markdown",
   "metadata": {},
   "source": [
    "## 6. Variant Calling\n",
    "\n",
    "__6.1) Create .mpileup from reference genome and sorted .bam files__\n",
    "\n",
    "`samtools mpileup -f GCF_000005845.2_ASM584v2_genomic.fna alignment_sorted.bam > my.mpileup`\n",
    "\n",
    "__6.2) Call actual variates via VarScan program__\n",
    "\n",
    "Download VarScan from webside: [VarScan](http://dkoboldt.github.io/varscan/)\n",
    "\n",
    "`java -jar VarScan.v2.3.9.jar mpileup2snp my.mpileup --min-var-freq 0.50 --variants --output-vcf 1 > VarScan_results.vcf`\n",
    "\n",
    "Output:"
   ]
  },
  {
   "cell_type": "raw",
   "metadata": {},
   "source": [
    "Only SNPs will be reported\n",
    "Warning: No p-value threshold provided, so p-values will not be calculated\n",
    "Min coverage:   8\n",
    "Min reads2:     2\n",
    "Min var freq:   0.5\n",
    "Min avg qual:   15\n",
    "P-value thresh: 0.01\n",
    "Reading input from my.mpileup\n",
    "4641430 bases in pileup file\n",
    "9 variant positions (6 SNP, 3 indel)\n",
    "1 were failed by the strand-filter\n",
    "5 variant positions reported (5 SNP, 0 indel)"
   ]
  },
  {
   "cell_type": "markdown",
   "metadata": {},
   "source": [
    "## 7. Variant effect prediction\n",
    "\n",
    "To find out where mutations are \n",
    "\n",
    "    1) File -> Load from file (open .gff annotation)\n",
    "    2) File -> Load from file (open .VarScan_results.vcf)\n",
    "    \n",
    "![title](igv_final.png)\n",
    "\n",
    "Following mutated genes were detected:\n",
    "* ftsI\n",
    "* acrB\n",
    "* rybA\n",
    "* envZ\n",
    "* rsgA"
   ]
  }
 ],
 "metadata": {
  "kernelspec": {
   "display_name": "Python 3",
   "language": "python",
   "name": "python3"
  },
  "language_info": {
   "codemirror_mode": {
    "name": "ipython",
    "version": 3
   },
   "file_extension": ".py",
   "mimetype": "text/x-python",
   "name": "python",
   "nbconvert_exporter": "python",
   "pygments_lexer": "ipython3",
   "version": "3.7.3"
  }
 },
 "nbformat": 4,
 "nbformat_minor": 4
}
